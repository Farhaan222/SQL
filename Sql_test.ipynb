{
 "cells": [
  {
   "cell_type": "code",
   "execution_count": 1,
   "id": "0ee9e34c",
   "metadata": {},
   "outputs": [
    {
     "name": "stdout",
     "output_type": "stream",
     "text": [
      "Note: you may need to restart the kernel to use updated packages.\n"
     ]
    },
    {
     "name": "stderr",
     "output_type": "stream",
     "text": [
      "ERROR: Could not find a version that satisfies the requirement sqlite3 (from versions: none)\n",
      "ERROR: No matching distribution found for sqlite3\n"
     ]
    }
   ],
   "source": [
    "pip install sqlite3"
   ]
  },
  {
   "cell_type": "code",
   "execution_count": 1,
   "id": "e3ad7d39",
   "metadata": {},
   "outputs": [],
   "source": [
    "import sqlite3\n",
    "import pandas as pd"
   ]
  },
  {
   "cell_type": "code",
   "execution_count": 39,
   "id": "0626f95e",
   "metadata": {},
   "outputs": [],
   "source": [
    "import pandas as pd"
   ]
  },
  {
   "cell_type": "code",
   "execution_count": 113,
   "id": "aae172d5",
   "metadata": {},
   "outputs": [],
   "source": [
    "con = sqlite3.connect('Downloads/drive/Customer1.xlsx')"
   ]
  },
  {
   "cell_type": "code",
   "execution_count": 114,
   "id": "13735930",
   "metadata": {},
   "outputs": [],
   "source": [
    "crsr = con.cursor()"
   ]
  },
  {
   "cell_type": "code",
   "execution_count": 14,
   "id": "91509b43",
   "metadata": {},
   "outputs": [],
   "source": [
    "df = pd.read_excel('Downloads/drive/Customer.xlsx')"
   ]
  },
  {
   "cell_type": "code",
   "execution_count": 15,
   "id": "17e368bc",
   "metadata": {},
   "outputs": [
    {
     "data": {
      "text/html": [
       "<div>\n",
       "<style scoped>\n",
       "    .dataframe tbody tr th:only-of-type {\n",
       "        vertical-align: middle;\n",
       "    }\n",
       "\n",
       "    .dataframe tbody tr th {\n",
       "        vertical-align: top;\n",
       "    }\n",
       "\n",
       "    .dataframe thead th {\n",
       "        text-align: right;\n",
       "    }\n",
       "</style>\n",
       "<table border=\"1\" class=\"dataframe\">\n",
       "  <thead>\n",
       "    <tr style=\"text-align: right;\">\n",
       "      <th></th>\n",
       "      <th>custemor_id</th>\n",
       "      <th>cust_name</th>\n",
       "      <th>city</th>\n",
       "      <th>grade</th>\n",
       "      <th>salesman</th>\n",
       "    </tr>\n",
       "  </thead>\n",
       "  <tbody>\n",
       "    <tr>\n",
       "      <th>0</th>\n",
       "      <td>3002</td>\n",
       "      <td>roshan</td>\n",
       "      <td>pune</td>\n",
       "      <td>100</td>\n",
       "      <td>5001</td>\n",
       "    </tr>\n",
       "    <tr>\n",
       "      <th>1</th>\n",
       "      <td>3007</td>\n",
       "      <td>sameer</td>\n",
       "      <td>pune</td>\n",
       "      <td>200</td>\n",
       "      <td>5001</td>\n",
       "    </tr>\n",
       "    <tr>\n",
       "      <th>2</th>\n",
       "      <td>3005</td>\n",
       "      <td>josh</td>\n",
       "      <td>mumbai</td>\n",
       "      <td>200</td>\n",
       "      <td>5002</td>\n",
       "    </tr>\n",
       "    <tr>\n",
       "      <th>3</th>\n",
       "      <td>3008</td>\n",
       "      <td>ajeem</td>\n",
       "      <td>nagpur</td>\n",
       "      <td>300</td>\n",
       "      <td>5002</td>\n",
       "    </tr>\n",
       "    <tr>\n",
       "      <th>4</th>\n",
       "      <td>3004</td>\n",
       "      <td>ravi</td>\n",
       "      <td>jaipur</td>\n",
       "      <td>300</td>\n",
       "      <td>5006</td>\n",
       "    </tr>\n",
       "    <tr>\n",
       "      <th>5</th>\n",
       "      <td>3009</td>\n",
       "      <td>pooja</td>\n",
       "      <td>kolkata</td>\n",
       "      <td>100</td>\n",
       "      <td>5003</td>\n",
       "    </tr>\n",
       "    <tr>\n",
       "      <th>6</th>\n",
       "      <td>3003</td>\n",
       "      <td>atul</td>\n",
       "      <td>banglore</td>\n",
       "      <td>200</td>\n",
       "      <td>5007</td>\n",
       "    </tr>\n",
       "    <tr>\n",
       "      <th>7</th>\n",
       "      <td>3001</td>\n",
       "      <td>tom</td>\n",
       "      <td>delhi</td>\n",
       "      <td>400</td>\n",
       "      <td>5005</td>\n",
       "    </tr>\n",
       "  </tbody>\n",
       "</table>\n",
       "</div>"
      ],
      "text/plain": [
       "   custemor_id cust_name      city  grade  salesman\n",
       "0         3002    roshan      pune    100      5001\n",
       "1         3007    sameer      pune    200      5001\n",
       "2         3005      josh    mumbai    200      5002\n",
       "3         3008     ajeem    nagpur    300      5002\n",
       "4         3004      ravi    jaipur    300      5006\n",
       "5         3009     pooja   kolkata    100      5003\n",
       "6         3003      atul  banglore    200      5007\n",
       "7         3001       tom     delhi    400      5005"
      ]
     },
     "execution_count": 15,
     "metadata": {},
     "output_type": "execute_result"
    }
   ],
   "source": [
    "df"
   ]
  },
  {
   "cell_type": "code",
   "execution_count": 17,
   "id": "f98e2ee4",
   "metadata": {},
   "outputs": [],
   "source": [
    "df.to_sql(name='Customer', con=con)"
   ]
  },
  {
   "cell_type": "code",
   "execution_count": 24,
   "id": "7eaf016d",
   "metadata": {},
   "outputs": [],
   "source": [
    "sql_statement = \"\"\"SELECT * FROM Customer ORDER BY grade\"\"\""
   ]
  },
  {
   "cell_type": "code",
   "execution_count": 25,
   "id": "83303ddd",
   "metadata": {
    "scrolled": true
   },
   "outputs": [
    {
     "data": {
      "text/plain": [
       "<sqlite3.Cursor at 0x15f4c1c4650>"
      ]
     },
     "execution_count": 25,
     "metadata": {},
     "output_type": "execute_result"
    }
   ],
   "source": [
    "crsr.execute(sql_statement)"
   ]
  },
  {
   "cell_type": "code",
   "execution_count": 26,
   "id": "5b6c69b0",
   "metadata": {},
   "outputs": [
    {
     "name": "stdout",
     "output_type": "stream",
     "text": [
      "[(0, 3002, 'roshan', 'pune', 100, 5001), (5, 3009, 'pooja', 'kolkata', 100, 5003), (1, 3007, 'sameer', 'pune', 200, 5001), (2, 3005, 'josh', 'mumbai', 200, 5002), (6, 3003, 'atul', 'banglore', 200, 5007), (3, 3008, 'ajeem', 'nagpur', 300, 5002), (4, 3004, 'ravi', 'jaipur', 300, 5006), (7, 3001, 'tom', 'delhi', 400, 5005)]\n"
     ]
    }
   ],
   "source": [
    "print(crsr.fetchall())"
   ]
  },
  {
   "cell_type": "code",
   "execution_count": 28,
   "id": "eb7df270",
   "metadata": {},
   "outputs": [],
   "source": [
    "df = pd.read_csv('Downloads/Dataset1/Dataset/Salesman.csv')"
   ]
  },
  {
   "cell_type": "code",
   "execution_count": 29,
   "id": "ebbec0cf",
   "metadata": {},
   "outputs": [
    {
     "data": {
      "text/html": [
       "<div>\n",
       "<style scoped>\n",
       "    .dataframe tbody tr th:only-of-type {\n",
       "        vertical-align: middle;\n",
       "    }\n",
       "\n",
       "    .dataframe tbody tr th {\n",
       "        vertical-align: top;\n",
       "    }\n",
       "\n",
       "    .dataframe thead th {\n",
       "        text-align: right;\n",
       "    }\n",
       "</style>\n",
       "<table border=\"1\" class=\"dataframe\">\n",
       "  <thead>\n",
       "    <tr style=\"text-align: right;\">\n",
       "      <th></th>\n",
       "      <th>salesman_id</th>\n",
       "      <th>name</th>\n",
       "      <th>city</th>\n",
       "      <th>commision</th>\n",
       "    </tr>\n",
       "  </thead>\n",
       "  <tbody>\n",
       "    <tr>\n",
       "      <th>0</th>\n",
       "      <td>5001</td>\n",
       "      <td>ashish</td>\n",
       "      <td>mumbai</td>\n",
       "      <td>0.15</td>\n",
       "    </tr>\n",
       "    <tr>\n",
       "      <th>1</th>\n",
       "      <td>5002</td>\n",
       "      <td>amol</td>\n",
       "      <td>amritsar</td>\n",
       "      <td>0.13</td>\n",
       "    </tr>\n",
       "    <tr>\n",
       "      <th>2</th>\n",
       "      <td>5005</td>\n",
       "      <td>ritesh</td>\n",
       "      <td>delhi</td>\n",
       "      <td>0.11</td>\n",
       "    </tr>\n",
       "    <tr>\n",
       "      <th>3</th>\n",
       "      <td>5006</td>\n",
       "      <td>rajesh</td>\n",
       "      <td>pune</td>\n",
       "      <td>0.14</td>\n",
       "    </tr>\n",
       "    <tr>\n",
       "      <th>4</th>\n",
       "      <td>5003</td>\n",
       "      <td>omkar</td>\n",
       "      <td>jaipur</td>\n",
       "      <td>0.12</td>\n",
       "    </tr>\n",
       "    <tr>\n",
       "      <th>5</th>\n",
       "      <td>5007</td>\n",
       "      <td>abhi</td>\n",
       "      <td>nagpur</td>\n",
       "      <td>0.13</td>\n",
       "    </tr>\n",
       "  </tbody>\n",
       "</table>\n",
       "</div>"
      ],
      "text/plain": [
       "   salesman_id    name      city  commision\n",
       "0         5001  ashish    mumbai       0.15\n",
       "1         5002    amol  amritsar       0.13\n",
       "2         5005  ritesh     delhi       0.11\n",
       "3         5006  rajesh      pune       0.14\n",
       "4         5003   omkar    jaipur       0.12\n",
       "5         5007    abhi    nagpur       0.13"
      ]
     },
     "execution_count": 29,
     "metadata": {},
     "output_type": "execute_result"
    }
   ],
   "source": [
    "df"
   ]
  },
  {
   "cell_type": "code",
   "execution_count": 31,
   "id": "970c022f",
   "metadata": {},
   "outputs": [],
   "source": [
    "df.to_sql(name='Salesman', con=con)"
   ]
  },
  {
   "cell_type": "code",
   "execution_count": 110,
   "id": "41d945c5",
   "metadata": {},
   "outputs": [],
   "source": [
    "sql_statement = \"\"\"SELECT MAX(commision) FROM Salesman\"\"\""
   ]
  },
  {
   "cell_type": "code",
   "execution_count": 111,
   "id": "927fc762",
   "metadata": {},
   "outputs": [
    {
     "ename": "ProgrammingError",
     "evalue": "Cannot operate on a closed database.",
     "output_type": "error",
     "traceback": [
      "\u001b[1;31m---------------------------------------------------------------------------\u001b[0m",
      "\u001b[1;31mProgrammingError\u001b[0m                          Traceback (most recent call last)",
      "\u001b[1;32mC:\\Users\\VICKYR~1\\AppData\\Local\\Temp/ipykernel_46640/3932831862.py\u001b[0m in \u001b[0;36m<module>\u001b[1;34m\u001b[0m\n\u001b[1;32m----> 1\u001b[1;33m \u001b[0mcrsr\u001b[0m\u001b[1;33m.\u001b[0m\u001b[0mexecute\u001b[0m\u001b[1;33m(\u001b[0m\u001b[0msql_statement\u001b[0m\u001b[1;33m)\u001b[0m\u001b[1;33m\u001b[0m\u001b[1;33m\u001b[0m\u001b[0m\n\u001b[0m",
      "\u001b[1;31mProgrammingError\u001b[0m: Cannot operate on a closed database."
     ]
    }
   ],
   "source": [
    "crsr.execute(sql_statement)"
   ]
  },
  {
   "cell_type": "code",
   "execution_count": 34,
   "id": "ad4761f0",
   "metadata": {},
   "outputs": [
    {
     "name": "stdout",
     "output_type": "stream",
     "text": [
      "[(0.15,)]\n"
     ]
    }
   ],
   "source": [
    "print(crsr.fetchall())"
   ]
  },
  {
   "cell_type": "code",
   "execution_count": 50,
   "id": "d886e8be",
   "metadata": {},
   "outputs": [],
   "source": [
    "df = pd.read_csv('Downloads/Dataset1/Dataset/Orders.csv',encoding_errors = 'ignore')"
   ]
  },
  {
   "cell_type": "code",
   "execution_count": 51,
   "id": "be2d64b9",
   "metadata": {},
   "outputs": [
    {
     "data": {
      "text/html": [
       "<div>\n",
       "<style scoped>\n",
       "    .dataframe tbody tr th:only-of-type {\n",
       "        vertical-align: middle;\n",
       "    }\n",
       "\n",
       "    .dataframe tbody tr th {\n",
       "        vertical-align: top;\n",
       "    }\n",
       "\n",
       "    .dataframe thead th {\n",
       "        text-align: right;\n",
       "    }\n",
       "</style>\n",
       "<table border=\"1\" class=\"dataframe\">\n",
       "  <thead>\n",
       "    <tr style=\"text-align: right;\">\n",
       "      <th></th>\n",
       "      <th>ord_no</th>\n",
       "      <th>purch_amt</th>\n",
       "      <th>ord_date</th>\n",
       "      <th>customer_id</th>\n",
       "      <th>salesman_id</th>\n",
       "    </tr>\n",
       "  </thead>\n",
       "  <tbody>\n",
       "    <tr>\n",
       "      <th>0</th>\n",
       "      <td>70001</td>\n",
       "      <td>150.50</td>\n",
       "      <td>05-10-2012</td>\n",
       "      <td>3005</td>\n",
       "      <td>5002</td>\n",
       "    </tr>\n",
       "    <tr>\n",
       "      <th>1</th>\n",
       "      <td>70009</td>\n",
       "      <td>270.65</td>\n",
       "      <td>2012-09-10</td>\n",
       "      <td>3001</td>\n",
       "      <td>5005</td>\n",
       "    </tr>\n",
       "    <tr>\n",
       "      <th>2</th>\n",
       "      <td>70002</td>\n",
       "      <td>65.26</td>\n",
       "      <td>05-10-2012</td>\n",
       "      <td>3002</td>\n",
       "      <td>5001</td>\n",
       "    </tr>\n",
       "    <tr>\n",
       "      <th>3</th>\n",
       "      <td>70004</td>\n",
       "      <td>110.50</td>\n",
       "      <td>2012-08-17</td>\n",
       "      <td>3009</td>\n",
       "      <td>5003</td>\n",
       "    </tr>\n",
       "    <tr>\n",
       "      <th>4</th>\n",
       "      <td>70007</td>\n",
       "      <td>948.50</td>\n",
       "      <td>10-09-2012</td>\n",
       "      <td>3005</td>\n",
       "      <td>5002</td>\n",
       "    </tr>\n",
       "    <tr>\n",
       "      <th>5</th>\n",
       "      <td>70005</td>\n",
       "      <td>2400.60</td>\n",
       "      <td>27-07-2012</td>\n",
       "      <td>3007</td>\n",
       "      <td>5001</td>\n",
       "    </tr>\n",
       "    <tr>\n",
       "      <th>6</th>\n",
       "      <td>70008</td>\n",
       "      <td>5760.00</td>\n",
       "      <td>10-09-2012</td>\n",
       "      <td>3002</td>\n",
       "      <td>5001</td>\n",
       "    </tr>\n",
       "    <tr>\n",
       "      <th>7</th>\n",
       "      <td>70010</td>\n",
       "      <td>1983.43</td>\n",
       "      <td>10-10-2012</td>\n",
       "      <td>3004</td>\n",
       "      <td>5006</td>\n",
       "    </tr>\n",
       "    <tr>\n",
       "      <th>8</th>\n",
       "      <td>70003</td>\n",
       "      <td>2480.40</td>\n",
       "      <td>10-10-2012</td>\n",
       "      <td>3009</td>\n",
       "      <td>5003</td>\n",
       "    </tr>\n",
       "    <tr>\n",
       "      <th>9</th>\n",
       "      <td>70012</td>\n",
       "      <td>250.45</td>\n",
       "      <td>27-06-2012</td>\n",
       "      <td>3008</td>\n",
       "      <td>5002</td>\n",
       "    </tr>\n",
       "    <tr>\n",
       "      <th>10</th>\n",
       "      <td>70011</td>\n",
       "      <td>75.29</td>\n",
       "      <td>17-08-2012</td>\n",
       "      <td>3003</td>\n",
       "      <td>5007</td>\n",
       "    </tr>\n",
       "    <tr>\n",
       "      <th>11</th>\n",
       "      <td>70013</td>\n",
       "      <td>3045.60</td>\n",
       "      <td>25-04-2012</td>\n",
       "      <td>3002</td>\n",
       "      <td>5001</td>\n",
       "    </tr>\n",
       "  </tbody>\n",
       "</table>\n",
       "</div>"
      ],
      "text/plain": [
       "    ord_no  purch_amt    ord_date  customer_id  salesman_id\n",
       "0    70001     150.50  05-10-2012         3005         5002\n",
       "1    70009     270.65  2012-09-10         3001         5005\n",
       "2    70002      65.26  05-10-2012         3002         5001\n",
       "3    70004     110.50  2012-08-17         3009         5003\n",
       "4    70007     948.50  10-09-2012         3005         5002\n",
       "5    70005    2400.60  27-07-2012         3007         5001\n",
       "6    70008    5760.00  10-09-2012         3002         5001\n",
       "7    70010    1983.43  10-10-2012         3004         5006\n",
       "8    70003    2480.40  10-10-2012         3009         5003\n",
       "9    70012     250.45  27-06-2012         3008         5002\n",
       "10   70011      75.29  17-08-2012         3003         5007\n",
       "11   70013    3045.60  25-04-2012         3002         5001"
      ]
     },
     "execution_count": 51,
     "metadata": {},
     "output_type": "execute_result"
    }
   ],
   "source": [
    "df"
   ]
  },
  {
   "cell_type": "code",
   "execution_count": 52,
   "id": "1d53eaf7",
   "metadata": {},
   "outputs": [],
   "source": [
    "df.to_sql(name='Orders', con=con)"
   ]
  },
  {
   "cell_type": "code",
   "execution_count": 56,
   "id": "92acdb87",
   "metadata": {},
   "outputs": [],
   "source": [
    "sql_statement = \"\"\"SELECT ord_no, purch_amt, ord_date, salesman_id  FROM Orders WHERE salesman_id IN (SELECT salesman_id FROM salesman WHERE city = 'nagpur');\"\"\""
   ]
  },
  {
   "cell_type": "code",
   "execution_count": 57,
   "id": "71a43980",
   "metadata": {},
   "outputs": [
    {
     "data": {
      "text/plain": [
       "<sqlite3.Cursor at 0x15f4c1c4650>"
      ]
     },
     "execution_count": 57,
     "metadata": {},
     "output_type": "execute_result"
    }
   ],
   "source": [
    "crsr.execute(sql_statement)"
   ]
  },
  {
   "cell_type": "code",
   "execution_count": 58,
   "id": "2f56f557",
   "metadata": {},
   "outputs": [
    {
     "name": "stdout",
     "output_type": "stream",
     "text": [
      "[(70011, 75.29, '17-08-2012', 5007)]\n"
     ]
    }
   ],
   "source": [
    "print(crsr.fetchall())"
   ]
  },
  {
   "cell_type": "code",
   "execution_count": null,
   "id": "9c1c017b",
   "metadata": {},
   "outputs": [],
   "source": [
    "select *from getLastRecord ORDER BY id DESC LIMIT 1;"
   ]
  },
  {
   "cell_type": "code",
   "execution_count": 74,
   "id": "467ef432",
   "metadata": {},
   "outputs": [],
   "source": [
    "sql_statement = \"\"\"SELECT purch_amt FROM Orders ORDER BY ord_no DESC LIMIT 2,1;\"\"\""
   ]
  },
  {
   "cell_type": "code",
   "execution_count": 75,
   "id": "b077eb59",
   "metadata": {},
   "outputs": [
    {
     "data": {
      "text/plain": [
       "<sqlite3.Cursor at 0x15f4c1c4650>"
      ]
     },
     "execution_count": 75,
     "metadata": {},
     "output_type": "execute_result"
    }
   ],
   "source": [
    "crsr.execute(sql_statement)"
   ]
  },
  {
   "cell_type": "code",
   "execution_count": 76,
   "id": "3aa68a89",
   "metadata": {},
   "outputs": [
    {
     "name": "stdout",
     "output_type": "stream",
     "text": [
      "[(75.29,)]\n"
     ]
    }
   ],
   "source": [
    "print(crsr.fetchall())"
   ]
  },
  {
   "cell_type": "code",
   "execution_count": null,
   "id": "254a8d8d",
   "metadata": {},
   "outputs": [],
   "source": []
  },
  {
   "cell_type": "markdown",
   "id": "1a4a13a1",
   "metadata": {},
   "source": [
    "ENTITIES \n",
    "customer_name,customer_id,Account_Number,Account_status,Account_type,Balance_amount,Transaction_amount,Transcation_channel,Transaction_Date,purch_am"
   ]
  },
  {
   "cell_type": "code",
   "execution_count": 83,
   "id": "82eddc69",
   "metadata": {},
   "outputs": [],
   "source": [
    "df = pd.read_csv('Downloads/Dataset1/Dataset/Bank_Account_Details.csv')"
   ]
  },
  {
   "cell_type": "code",
   "execution_count": 85,
   "id": "e63cca22",
   "metadata": {
    "scrolled": true
   },
   "outputs": [
    {
     "data": {
      "text/html": [
       "<div>\n",
       "<style scoped>\n",
       "    .dataframe tbody tr th:only-of-type {\n",
       "        vertical-align: middle;\n",
       "    }\n",
       "\n",
       "    .dataframe tbody tr th {\n",
       "        vertical-align: top;\n",
       "    }\n",
       "\n",
       "    .dataframe thead th {\n",
       "        text-align: right;\n",
       "    }\n",
       "</style>\n",
       "<table border=\"1\" class=\"dataframe\">\n",
       "  <thead>\n",
       "    <tr style=\"text-align: right;\">\n",
       "      <th></th>\n",
       "      <th>Customer_id</th>\n",
       "      <th>Account_Number</th>\n",
       "      <th>Account_type</th>\n",
       "      <th>Balance_amount</th>\n",
       "      <th>Account_status</th>\n",
       "      <th>Relationship_type</th>\n",
       "    </tr>\n",
       "  </thead>\n",
       "  <tbody>\n",
       "    <tr>\n",
       "      <th>0</th>\n",
       "      <td>123001</td>\n",
       "      <td>4000-1956-3456</td>\n",
       "      <td>SAVINGS</td>\n",
       "      <td>200000</td>\n",
       "      <td>ACTIVE</td>\n",
       "      <td>P</td>\n",
       "    </tr>\n",
       "    <tr>\n",
       "      <th>1</th>\n",
       "      <td>123001</td>\n",
       "      <td>5000-1700-3456</td>\n",
       "      <td>RECURRING DEPOSITS</td>\n",
       "      <td>9400000</td>\n",
       "      <td>ACTIVE</td>\n",
       "      <td>S</td>\n",
       "    </tr>\n",
       "    <tr>\n",
       "      <th>2</th>\n",
       "      <td>123002</td>\n",
       "      <td>4000-1956-2001</td>\n",
       "      <td>SAVINGS</td>\n",
       "      <td>400000</td>\n",
       "      <td>ACTIVE</td>\n",
       "      <td>P</td>\n",
       "    </tr>\n",
       "    <tr>\n",
       "      <th>3</th>\n",
       "      <td>123002</td>\n",
       "      <td>5000-1700-5001</td>\n",
       "      <td>RECURRING DEPOSITS</td>\n",
       "      <td>7500000</td>\n",
       "      <td>ACTIVE</td>\n",
       "      <td>S</td>\n",
       "    </tr>\n",
       "    <tr>\n",
       "      <th>4</th>\n",
       "      <td>123003</td>\n",
       "      <td>4000-1956-2900</td>\n",
       "      <td>SAVINGS</td>\n",
       "      <td>750000</td>\n",
       "      <td>INACTIVE</td>\n",
       "      <td>P</td>\n",
       "    </tr>\n",
       "    <tr>\n",
       "      <th>5</th>\n",
       "      <td>123004</td>\n",
       "      <td>5000-1700-6091</td>\n",
       "      <td>RECURRING DEPOSITS</td>\n",
       "      <td>7500000</td>\n",
       "      <td>ACTIVE</td>\n",
       "      <td>S</td>\n",
       "    </tr>\n",
       "    <tr>\n",
       "      <th>6</th>\n",
       "      <td>123004</td>\n",
       "      <td>4000-1956-3401</td>\n",
       "      <td>SAVINGS</td>\n",
       "      <td>655000</td>\n",
       "      <td>ACTIVE</td>\n",
       "      <td>P</td>\n",
       "    </tr>\n",
       "    <tr>\n",
       "      <th>7</th>\n",
       "      <td>123005</td>\n",
       "      <td>4000-1956-5102</td>\n",
       "      <td>SAVINGS</td>\n",
       "      <td>300000</td>\n",
       "      <td>ACTIVE</td>\n",
       "      <td>P</td>\n",
       "    </tr>\n",
       "    <tr>\n",
       "      <th>8</th>\n",
       "      <td>123006</td>\n",
       "      <td>4000-1956-5698</td>\n",
       "      <td>SAVINGS</td>\n",
       "      <td>455000</td>\n",
       "      <td>ACTIVE</td>\n",
       "      <td>P</td>\n",
       "    </tr>\n",
       "    <tr>\n",
       "      <th>9</th>\n",
       "      <td>123007</td>\n",
       "      <td>5000-1700-9800</td>\n",
       "      <td>SAVINGS</td>\n",
       "      <td>355000</td>\n",
       "      <td>ACTIVE</td>\n",
       "      <td>P</td>\n",
       "    </tr>\n",
       "    <tr>\n",
       "      <th>10</th>\n",
       "      <td>123007</td>\n",
       "      <td>4000-1956-9977</td>\n",
       "      <td>RECURRING DEPOSITS</td>\n",
       "      <td>7025000</td>\n",
       "      <td>ACTIVE</td>\n",
       "      <td>S</td>\n",
       "    </tr>\n",
       "    <tr>\n",
       "      <th>11</th>\n",
       "      <td>123007</td>\n",
       "      <td>9000-1700-7777-4321</td>\n",
       "      <td>Credit Card</td>\n",
       "      <td>0</td>\n",
       "      <td>INACTIVE</td>\n",
       "      <td>P</td>\n",
       "    </tr>\n",
       "    <tr>\n",
       "      <th>12</th>\n",
       "      <td>123007</td>\n",
       "      <td>5900-1900-9877-5543</td>\n",
       "      <td>Add-on Credit Card</td>\n",
       "      <td>0</td>\n",
       "      <td>ACTIVE</td>\n",
       "      <td>S</td>\n",
       "    </tr>\n",
       "    <tr>\n",
       "      <th>13</th>\n",
       "      <td>123008</td>\n",
       "      <td>5000-1700-7755</td>\n",
       "      <td>SAVINGS</td>\n",
       "      <td>0</td>\n",
       "      <td>INACTIVE</td>\n",
       "      <td>P</td>\n",
       "    </tr>\n",
       "    <tr>\n",
       "      <th>14</th>\n",
       "      <td>123006</td>\n",
       "      <td>5800-1700-9800-7755</td>\n",
       "      <td>Credit Card</td>\n",
       "      <td>0</td>\n",
       "      <td>ACTIVE</td>\n",
       "      <td>P</td>\n",
       "    </tr>\n",
       "    <tr>\n",
       "      <th>15</th>\n",
       "      <td>123006</td>\n",
       "      <td>5890-1970-7706-8912</td>\n",
       "      <td>Add-on Credit Card</td>\n",
       "      <td>0</td>\n",
       "      <td>ACTIVE</td>\n",
       "      <td>S</td>\n",
       "    </tr>\n",
       "  </tbody>\n",
       "</table>\n",
       "</div>"
      ],
      "text/plain": [
       "    Customer_id       Account_Number        Account_type  Balance_amount  \\\n",
       "0        123001       4000-1956-3456             SAVINGS          200000   \n",
       "1        123001       5000-1700-3456  RECURRING DEPOSITS         9400000   \n",
       "2        123002       4000-1956-2001             SAVINGS          400000   \n",
       "3        123002       5000-1700-5001  RECURRING DEPOSITS         7500000   \n",
       "4        123003       4000-1956-2900             SAVINGS          750000   \n",
       "5        123004       5000-1700-6091  RECURRING DEPOSITS         7500000   \n",
       "6        123004       4000-1956-3401             SAVINGS          655000   \n",
       "7        123005       4000-1956-5102             SAVINGS          300000   \n",
       "8        123006       4000-1956-5698             SAVINGS          455000   \n",
       "9        123007       5000-1700-9800             SAVINGS          355000   \n",
       "10       123007       4000-1956-9977  RECURRING DEPOSITS         7025000   \n",
       "11       123007  9000-1700-7777-4321         Credit Card               0   \n",
       "12       123007  5900-1900-9877-5543  Add-on Credit Card               0   \n",
       "13       123008       5000-1700-7755             SAVINGS               0   \n",
       "14       123006  5800-1700-9800-7755         Credit Card               0   \n",
       "15       123006  5890-1970-7706-8912  Add-on Credit Card               0   \n",
       "\n",
       "   Account_status Relationship_type  \n",
       "0          ACTIVE                 P  \n",
       "1          ACTIVE                 S  \n",
       "2          ACTIVE                 P  \n",
       "3          ACTIVE                 S  \n",
       "4        INACTIVE                 P  \n",
       "5          ACTIVE                 S  \n",
       "6          ACTIVE                 P  \n",
       "7          ACTIVE                 P  \n",
       "8          ACTIVE                 P  \n",
       "9          ACTIVE                 P  \n",
       "10         ACTIVE                 S  \n",
       "11       INACTIVE                 P  \n",
       "12         ACTIVE                 S  \n",
       "13       INACTIVE                 P  \n",
       "14         ACTIVE                 P  \n",
       "15         ACTIVE                 S  "
      ]
     },
     "execution_count": 85,
     "metadata": {},
     "output_type": "execute_result"
    }
   ],
   "source": [
    "df"
   ]
  },
  {
   "cell_type": "code",
   "execution_count": 86,
   "id": "89658671",
   "metadata": {},
   "outputs": [],
   "source": [
    "df.to_sql(name='Bank_Account_Details', con=con)"
   ]
  },
  {
   "cell_type": "code",
   "execution_count": 88,
   "id": "d0e293fe",
   "metadata": {},
   "outputs": [],
   "source": [
    "df = pd.read_csv('Downloads/Dataset1/Dataset/BANK_ACCOUNT_TRANSACTION.csv')"
   ]
  },
  {
   "cell_type": "code",
   "execution_count": 90,
   "id": "ac7f732b",
   "metadata": {},
   "outputs": [
    {
     "data": {
      "text/html": [
       "<div>\n",
       "<style scoped>\n",
       "    .dataframe tbody tr th:only-of-type {\n",
       "        vertical-align: middle;\n",
       "    }\n",
       "\n",
       "    .dataframe tbody tr th {\n",
       "        vertical-align: top;\n",
       "    }\n",
       "\n",
       "    .dataframe thead th {\n",
       "        text-align: right;\n",
       "    }\n",
       "</style>\n",
       "<table border=\"1\" class=\"dataframe\">\n",
       "  <thead>\n",
       "    <tr style=\"text-align: right;\">\n",
       "      <th></th>\n",
       "      <th>Account_Number</th>\n",
       "      <th>Transaction_amount</th>\n",
       "      <th>Transcation_channel</th>\n",
       "      <th>Province</th>\n",
       "      <th>Transaction_Date</th>\n",
       "    </tr>\n",
       "  </thead>\n",
       "  <tbody>\n",
       "    <tr>\n",
       "      <th>0</th>\n",
       "      <td>4000-1956-3456</td>\n",
       "      <td>-2000.0</td>\n",
       "      <td>ATM withdrawl</td>\n",
       "      <td>CA</td>\n",
       "      <td>2020-01-13</td>\n",
       "    </tr>\n",
       "    <tr>\n",
       "      <th>1</th>\n",
       "      <td>4000-1956-2001</td>\n",
       "      <td>-4000.0</td>\n",
       "      <td>POS-Walmart</td>\n",
       "      <td>MN</td>\n",
       "      <td>2020-02-14</td>\n",
       "    </tr>\n",
       "    <tr>\n",
       "      <th>2</th>\n",
       "      <td>4000-1956-2001</td>\n",
       "      <td>-1600.0</td>\n",
       "      <td>UPI transfer</td>\n",
       "      <td>MN</td>\n",
       "      <td>2020-01-19</td>\n",
       "    </tr>\n",
       "    <tr>\n",
       "      <th>3</th>\n",
       "      <td>4000-1956-2001</td>\n",
       "      <td>-6000.0</td>\n",
       "      <td>Bankers cheque</td>\n",
       "      <td>CA</td>\n",
       "      <td>2020-03-23</td>\n",
       "    </tr>\n",
       "    <tr>\n",
       "      <th>4</th>\n",
       "      <td>4000-1956-2001</td>\n",
       "      <td>-3000.0</td>\n",
       "      <td>Net banking</td>\n",
       "      <td>CA</td>\n",
       "      <td>2020-04-24</td>\n",
       "    </tr>\n",
       "    <tr>\n",
       "      <th>5</th>\n",
       "      <td>4000-1956-2001</td>\n",
       "      <td>23000.0</td>\n",
       "      <td>cheque deposit</td>\n",
       "      <td>MN</td>\n",
       "      <td>2020-03-15</td>\n",
       "    </tr>\n",
       "    <tr>\n",
       "      <th>6</th>\n",
       "      <td>5000-1700-6091</td>\n",
       "      <td>40000.0</td>\n",
       "      <td>ECS transfer</td>\n",
       "      <td>NY</td>\n",
       "      <td>2020-02-19</td>\n",
       "    </tr>\n",
       "    <tr>\n",
       "      <th>7</th>\n",
       "      <td>5000-1700-7791</td>\n",
       "      <td>40000.0</td>\n",
       "      <td>ECS transfer</td>\n",
       "      <td>NY</td>\n",
       "      <td>2020-02-19</td>\n",
       "    </tr>\n",
       "    <tr>\n",
       "      <th>8</th>\n",
       "      <td>4000-1956-3401</td>\n",
       "      <td>8000.0</td>\n",
       "      <td>Cash Deposit</td>\n",
       "      <td>NY</td>\n",
       "      <td>2020-01-19</td>\n",
       "    </tr>\n",
       "    <tr>\n",
       "      <th>9</th>\n",
       "      <td>4000-1956-5102</td>\n",
       "      <td>-6500.0</td>\n",
       "      <td>ATM withdrawal</td>\n",
       "      <td>NY</td>\n",
       "      <td>2020-03-14</td>\n",
       "    </tr>\n",
       "    <tr>\n",
       "      <th>10</th>\n",
       "      <td>4000-1956-5698</td>\n",
       "      <td>-9000.0</td>\n",
       "      <td>Cash Deposit</td>\n",
       "      <td>NY</td>\n",
       "      <td>2020-03-27</td>\n",
       "    </tr>\n",
       "    <tr>\n",
       "      <th>11</th>\n",
       "      <td>4000-1956-9977</td>\n",
       "      <td>50000.0</td>\n",
       "      <td>ECS transfer</td>\n",
       "      <td>NY</td>\n",
       "      <td>2020-01-16</td>\n",
       "    </tr>\n",
       "    <tr>\n",
       "      <th>12</th>\n",
       "      <td>9000-1700-7777-4321</td>\n",
       "      <td>-5000.0</td>\n",
       "      <td>POS-Walmart</td>\n",
       "      <td>NY</td>\n",
       "      <td>2020-02-17</td>\n",
       "    </tr>\n",
       "    <tr>\n",
       "      <th>13</th>\n",
       "      <td>9000-1700-7777-4321</td>\n",
       "      <td>-8000.0</td>\n",
       "      <td>Shopping Cart</td>\n",
       "      <td>MN</td>\n",
       "      <td>2020-03-13</td>\n",
       "    </tr>\n",
       "    <tr>\n",
       "      <th>14</th>\n",
       "      <td>9000-1700-7777-4321</td>\n",
       "      <td>-2500.0</td>\n",
       "      <td>Shopping Cart</td>\n",
       "      <td>MN</td>\n",
       "      <td>2020-04-21</td>\n",
       "    </tr>\n",
       "    <tr>\n",
       "      <th>15</th>\n",
       "      <td>5800-1700-9800-7755</td>\n",
       "      <td>-9000.0</td>\n",
       "      <td>POS-Walmart</td>\n",
       "      <td>MN</td>\n",
       "      <td>2020-04-13</td>\n",
       "    </tr>\n",
       "    <tr>\n",
       "      <th>16</th>\n",
       "      <td>5890-1970-7706-8912</td>\n",
       "      <td>-11000.0</td>\n",
       "      <td>Shopping Cart</td>\n",
       "      <td>NY</td>\n",
       "      <td>2020-03-12</td>\n",
       "    </tr>\n",
       "  </tbody>\n",
       "</table>\n",
       "</div>"
      ],
      "text/plain": [
       "         Account_Number  Transaction_amount Transcation_channel Province  \\\n",
       "0        4000-1956-3456             -2000.0       ATM withdrawl       CA   \n",
       "1        4000-1956-2001             -4000.0         POS-Walmart       MN   \n",
       "2        4000-1956-2001             -1600.0        UPI transfer       MN   \n",
       "3        4000-1956-2001             -6000.0      Bankers cheque       CA   \n",
       "4        4000-1956-2001             -3000.0         Net banking       CA   \n",
       "5        4000-1956-2001             23000.0      cheque deposit       MN   \n",
       "6        5000-1700-6091             40000.0        ECS transfer       NY   \n",
       "7        5000-1700-7791             40000.0        ECS transfer       NY   \n",
       "8        4000-1956-3401              8000.0        Cash Deposit       NY   \n",
       "9        4000-1956-5102             -6500.0      ATM withdrawal       NY   \n",
       "10       4000-1956-5698             -9000.0        Cash Deposit       NY   \n",
       "11       4000-1956-9977             50000.0        ECS transfer       NY   \n",
       "12  9000-1700-7777-4321             -5000.0         POS-Walmart       NY   \n",
       "13  9000-1700-7777-4321             -8000.0       Shopping Cart       MN   \n",
       "14  9000-1700-7777-4321             -2500.0       Shopping Cart       MN   \n",
       "15  5800-1700-9800-7755             -9000.0         POS-Walmart       MN   \n",
       "16  5890-1970-7706-8912            -11000.0       Shopping Cart       NY   \n",
       "\n",
       "   Transaction_Date  \n",
       "0        2020-01-13  \n",
       "1        2020-02-14  \n",
       "2        2020-01-19  \n",
       "3        2020-03-23  \n",
       "4        2020-04-24  \n",
       "5        2020-03-15  \n",
       "6        2020-02-19  \n",
       "7        2020-02-19  \n",
       "8        2020-01-19  \n",
       "9        2020-03-14  \n",
       "10       2020-03-27  \n",
       "11       2020-01-16  \n",
       "12       2020-02-17  \n",
       "13       2020-03-13  \n",
       "14       2020-04-21  \n",
       "15       2020-04-13  \n",
       "16       2020-03-12  "
      ]
     },
     "execution_count": 90,
     "metadata": {},
     "output_type": "execute_result"
    }
   ],
   "source": [
    "df"
   ]
  },
  {
   "cell_type": "code",
   "execution_count": 89,
   "id": "6c72094a",
   "metadata": {},
   "outputs": [],
   "source": [
    "df.to_sql(name='BANK_ACCOUNT_TRANSACTION',con=con)"
   ]
  },
  {
   "cell_type": "code",
   "execution_count": 95,
   "id": "8b70b774",
   "metadata": {},
   "outputs": [],
   "source": [
    "df = pd.read_csv('Downloads/Dataset1/Dataset/Bank_customer.csv')"
   ]
  },
  {
   "cell_type": "code",
   "execution_count": 96,
   "id": "16e7300c",
   "metadata": {},
   "outputs": [
    {
     "data": {
      "text/html": [
       "<div>\n",
       "<style scoped>\n",
       "    .dataframe tbody tr th:only-of-type {\n",
       "        vertical-align: middle;\n",
       "    }\n",
       "\n",
       "    .dataframe tbody tr th {\n",
       "        vertical-align: top;\n",
       "    }\n",
       "\n",
       "    .dataframe thead th {\n",
       "        text-align: right;\n",
       "    }\n",
       "</style>\n",
       "<table border=\"1\" class=\"dataframe\">\n",
       "  <thead>\n",
       "    <tr style=\"text-align: right;\">\n",
       "      <th></th>\n",
       "      <th>customer_id</th>\n",
       "      <th>customer_name</th>\n",
       "      <th>Address</th>\n",
       "      <th>state_code</th>\n",
       "      <th>Telephone</th>\n",
       "    </tr>\n",
       "  </thead>\n",
       "  <tbody>\n",
       "    <tr>\n",
       "      <th>0</th>\n",
       "      <td>123001</td>\n",
       "      <td>Oliver</td>\n",
       "      <td>225-5, Emeryville</td>\n",
       "      <td>CA</td>\n",
       "      <td>1897614500</td>\n",
       "    </tr>\n",
       "    <tr>\n",
       "      <th>1</th>\n",
       "      <td>123002</td>\n",
       "      <td>George</td>\n",
       "      <td>194-6,New brighton</td>\n",
       "      <td>MN</td>\n",
       "      <td>1897617000</td>\n",
       "    </tr>\n",
       "    <tr>\n",
       "      <th>2</th>\n",
       "      <td>123003</td>\n",
       "      <td>Harry</td>\n",
       "      <td>2909-5,walnut creek</td>\n",
       "      <td>CA</td>\n",
       "      <td>1897617866</td>\n",
       "    </tr>\n",
       "    <tr>\n",
       "      <th>3</th>\n",
       "      <td>123004</td>\n",
       "      <td>Jack</td>\n",
       "      <td>229-5, Concord</td>\n",
       "      <td>CA</td>\n",
       "      <td>1897627999</td>\n",
       "    </tr>\n",
       "    <tr>\n",
       "      <th>4</th>\n",
       "      <td>123005</td>\n",
       "      <td>Jacob</td>\n",
       "      <td>325-7, Mission Dist</td>\n",
       "      <td>SFO</td>\n",
       "      <td>1897637000</td>\n",
       "    </tr>\n",
       "    <tr>\n",
       "      <th>5</th>\n",
       "      <td>123006</td>\n",
       "      <td>Noah</td>\n",
       "      <td>275-9, saint-paul</td>\n",
       "      <td>MN</td>\n",
       "      <td>1897613200</td>\n",
       "    </tr>\n",
       "    <tr>\n",
       "      <th>6</th>\n",
       "      <td>123007</td>\n",
       "      <td>Charlie</td>\n",
       "      <td>125-1,Richfield</td>\n",
       "      <td>MN</td>\n",
       "      <td>1897617666</td>\n",
       "    </tr>\n",
       "    <tr>\n",
       "      <th>7</th>\n",
       "      <td>123008</td>\n",
       "      <td>Robin</td>\n",
       "      <td>3005-1,Heathrow</td>\n",
       "      <td>NY</td>\n",
       "      <td>1897614000</td>\n",
       "    </tr>\n",
       "  </tbody>\n",
       "</table>\n",
       "</div>"
      ],
      "text/plain": [
       "   customer_id customer_name              Address state_code   Telephone\n",
       "0       123001        Oliver    225-5, Emeryville         CA  1897614500\n",
       "1       123002        George   194-6,New brighton         MN  1897617000\n",
       "2       123003         Harry  2909-5,walnut creek         CA  1897617866\n",
       "3       123004          Jack       229-5, Concord         CA  1897627999\n",
       "4       123005         Jacob  325-7, Mission Dist        SFO  1897637000\n",
       "5       123006          Noah    275-9, saint-paul         MN  1897613200\n",
       "6       123007       Charlie      125-1,Richfield         MN  1897617666\n",
       "7       123008         Robin      3005-1,Heathrow         NY  1897614000"
      ]
     },
     "execution_count": 96,
     "metadata": {},
     "output_type": "execute_result"
    }
   ],
   "source": [
    "df"
   ]
  },
  {
   "cell_type": "code",
   "execution_count": 97,
   "id": "437ddd06",
   "metadata": {},
   "outputs": [],
   "source": [
    "df.to_sql(name='Bank_customer', con=con)"
   ]
  },
  {
   "cell_type": "code",
   "execution_count": 100,
   "id": "6493d3ae",
   "metadata": {},
   "outputs": [],
   "source": [
    "sql_statement = \"\"\"Select Customer_id,Account_Number,Case when ifnull(Balance_amount,0) = 0 then Transaction_amount else Balance_amount end as Balance_amount\n",
    "from Bank_Account_Details inner join BANK_ACCOUNT_TRANSACTION on Account_Number = Account_Number and Account_type = \"Credit Card\";\"\"\""
   ]
  },
  {
   "cell_type": "code",
   "execution_count": 101,
   "id": "bc553fad",
   "metadata": {},
   "outputs": [
    {
     "ename": "OperationalError",
     "evalue": "ambiguous column name: Account_Number",
     "output_type": "error",
     "traceback": [
      "\u001b[1;31m---------------------------------------------------------------------------\u001b[0m",
      "\u001b[1;31mOperationalError\u001b[0m                          Traceback (most recent call last)",
      "\u001b[1;32mC:\\Users\\VICKYR~1\\AppData\\Local\\Temp/ipykernel_46640/3932831862.py\u001b[0m in \u001b[0;36m<module>\u001b[1;34m\u001b[0m\n\u001b[1;32m----> 1\u001b[1;33m \u001b[0mcrsr\u001b[0m\u001b[1;33m.\u001b[0m\u001b[0mexecute\u001b[0m\u001b[1;33m(\u001b[0m\u001b[0msql_statement\u001b[0m\u001b[1;33m)\u001b[0m\u001b[1;33m\u001b[0m\u001b[1;33m\u001b[0m\u001b[0m\n\u001b[0m",
      "\u001b[1;31mOperationalError\u001b[0m: ambiguous column name: Account_Number"
     ]
    }
   ],
   "source": [
    "crsr.execute(sql_statement)"
   ]
  },
  {
   "cell_type": "code",
   "execution_count": 102,
   "id": "5afcb075",
   "metadata": {},
   "outputs": [],
   "source": [
    "con.commit()"
   ]
  },
  {
   "cell_type": "code",
   "execution_count": 103,
   "id": "e5d17978",
   "metadata": {},
   "outputs": [],
   "source": [
    "con.close()"
   ]
  },
  {
   "cell_type": "code",
   "execution_count": null,
   "id": "3a06c19d",
   "metadata": {},
   "outputs": [],
   "source": []
  }
 ],
 "metadata": {
  "kernelspec": {
   "display_name": "Python 3 (ipykernel)",
   "language": "python",
   "name": "python3"
  },
  "language_info": {
   "codemirror_mode": {
    "name": "ipython",
    "version": 3
   },
   "file_extension": ".py",
   "mimetype": "text/x-python",
   "name": "python",
   "nbconvert_exporter": "python",
   "pygments_lexer": "ipython3",
   "version": "3.9.7"
  }
 },
 "nbformat": 4,
 "nbformat_minor": 5
}
